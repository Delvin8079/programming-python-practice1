{
  "nbformat": 4,
  "nbformat_minor": 0,
  "metadata": {
    "colab": {
      "provenance": [],
      "toc_visible": true
    },
    "kernelspec": {
      "name": "python3",
      "display_name": "Python 3"
    },
    "language_info": {
      "name": "python"
    }
  },
  "cells": [
    {
      "cell_type": "code",
      "execution_count": 11,
      "metadata": {
        "colab": {
          "base_uri": "https://localhost:8080/"
        },
        "id": "t3Kn8ENMf9cX",
        "outputId": "1348f494-5320-40b2-d527-f08ed802835a"
      },
      "outputs": [
        {
          "output_type": "stream",
          "name": "stdout",
          "text": [
            "Please enter the first  number:10\n",
            "Please enter the second  number:2\n",
            "---------------------------------\n",
            "num1 + num2= 12\n",
            "num1 - num2= 8\n",
            "num1 * num2= 20\n",
            "num1 / num2= 5.0\n",
            "num1 % num2= 0\n",
            "num1 ** num2= 100\n",
            "---------------------------------\n",
            "num1 and num2 : 2\n",
            "num1 or num2 : 10\n",
            "num1 & num2 : 2\n",
            "num1 | num2 : 10\n",
            "num1 ^ num2 : 8\n",
            "---------------------------------\n",
            "bin num1 + num2:  0b1100\n",
            "num1 - num2= 0b1000\n",
            "num1 * num2= 0b10100\n",
            "num1 % num2= 0b0\n",
            "num1 ** num2= 0b1100100\n",
            "---------------------------------\n",
            "oct num1 + num2:  0o14\n",
            "num1 - num2= 0o10\n",
            "num1 * num2= 0o24\n",
            "num1 % num2= 0o0\n",
            "num1 ** num2= 0o144\n",
            "---------------------------------\n",
            "hex num1 + num2:  0xc\n",
            "num1 - num2= 0x8\n",
            "num1 * num2= 0x14\n",
            "num1 % num2= 0x0\n",
            "num1 ** num2= 0x64\n",
            "---------------------------------\n"
          ]
        }
      ],
      "source": [
        "from typing import SupportsComplex\n",
        "num1 = int(input(\"Please enter the first  number:\"))\n",
        "num2 =int(input(\"Please enter the second  number:\"))\n",
        "print(\"---------------------------------\")\n",
        "sum  = num1 + num2\n",
        "tafriq =num1-num2\n",
        "zarb =num1 * num2\n",
        "taqsim=num1/num2\n",
        "baqimqnde=num1%num2\n",
        "tavan=num1**num2\n",
        "bin1=bin(num1)\n",
        "bin2=bin(num2)\n",
        "print(\"num1 + num2=\",str(sum))\n",
        "print(\"num1 - num2=\",str(tafriq))\n",
        "print(\"num1 * num2=\",str(zarb))\n",
        "print(\"num1 / num2=\",str(taqsim))\n",
        "print(\"num1 % num2=\",str(baqimqnde))\n",
        "print(\"num1 ** num2=\",str(tavan))\n",
        "print(\"---------------------------------\")\n",
        "print(\"num1 and num2 :\",num1 and num2)\n",
        "print(\"num1 or num2 :\",num1 or num2)\n",
        "print(\"num1 & num2 :\",num1 & num2)\n",
        "print(\"num1 | num2 :\",num1 | num2)\n",
        "print(\"num1 ^ num2 :\",num1 ^ num2)\n",
        "print(\"---------------------------------\")\n",
        "print(\"bin num1 + num2: \",bin(sum))\n",
        "print(\"num1 - num2=\",bin(tafriq))\n",
        "print(\"num1 * num2=\",bin(zarb))\n",
        "print(\"num1 % num2=\",bin(baqimqnde))\n",
        "print(\"num1 ** num2=\",bin(tavan))\n",
        "print(\"---------------------------------\")\n",
        "print(\"oct num1 + num2: \",oct(sum))\n",
        "print(\"num1 - num2=\",oct(tafriq))\n",
        "print(\"num1 * num2=\",oct(zarb))\n",
        "print(\"num1 % num2=\",oct(baqimqnde))\n",
        "print(\"num1 ** num2=\",oct(tavan))\n",
        "print(\"---------------------------------\")\n",
        "print(\"hex num1 + num2: \",hex(sum))\n",
        "print(\"num1 - num2=\",hex(tafriq))\n",
        "print(\"num1 * num2=\",hex(zarb))\n",
        "print(\"num1 % num2=\",hex(baqimqnde))\n",
        "print(\"num1 ** num2=\",hex(tavan))\n",
        "print(\"---------------------------------\")\n"
      ]
    }
  ]
}